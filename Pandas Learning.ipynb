{
 "cells": [
  {
   "cell_type": "code",
   "execution_count": 1,
   "id": "3bfd7f7c-1878-4a7a-9023-f32845907310",
   "metadata": {},
   "outputs": [],
   "source": [
    "# Notebook for Pandas Practice"
   ]
  },
  {
   "cell_type": "code",
   "execution_count": 2,
   "id": "6deabf17-8590-4306-a93f-c5e0c21dacb3",
   "metadata": {},
   "outputs": [
    {
     "name": "stdout",
     "output_type": "stream",
     "text": [
      "2.1.4\n"
     ]
    }
   ],
   "source": [
    "import pandas as pd\n",
    "print(pd.__version__)\n"
   ]
  },
  {
   "cell_type": "code",
   "execution_count": null,
   "id": "c8799bc2-a2b7-4467-a1f1-094bfd413d42",
   "metadata": {},
   "outputs": [],
   "source": []
  }
 ],
 "metadata": {
  "kernelspec": {
   "display_name": "Python 3 (ipykernel)",
   "language": "python",
   "name": "python3"
  },
  "language_info": {
   "codemirror_mode": {
    "name": "ipython",
    "version": 3
   },
   "file_extension": ".py",
   "mimetype": "text/x-python",
   "name": "python",
   "nbconvert_exporter": "python",
   "pygments_lexer": "ipython3",
   "version": "3.11.7"
  }
 },
 "nbformat": 4,
 "nbformat_minor": 5
}
