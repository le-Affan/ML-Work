{
 "cells": [
  {
   "cell_type": "code",
   "execution_count": null,
   "id": "3bfd7f7c-1878-4a7a-9023-f32845907310",
   "metadata": {},
   "outputs": [],
   "source": [
    "# Notebook for Pandas Practice"
   ]
  }
 ],
 "metadata": {
  "kernelspec": {
   "display_name": "Python 3 (ipykernel)",
   "language": "python",
   "name": "python3"
  },
  "language_info": {
   "codemirror_mode": {
    "name": "ipython",
    "version": 3
   },
   "file_extension": ".py",
   "mimetype": "text/x-python",
   "name": "python",
   "nbconvert_exporter": "python",
   "pygments_lexer": "ipython3",
   "version": "3.11.7"
  }
 },
 "nbformat": 4,
 "nbformat_minor": 5
}
